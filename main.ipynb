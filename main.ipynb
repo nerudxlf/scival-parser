{
  "nbformat": 4,
  "nbformat_minor": 0,
  "metadata": {
    "colab": {
      "name": "main.ipynb",
      "provenance": [],
      "authorship_tag": "ABX9TyNFnfb72v2f5N3b1lMSu9HC",
      "include_colab_link": true
    },
    "kernelspec": {
      "name": "python3",
      "display_name": "Python 3"
    },
    "language_info": {
      "name": "python"
    }
  },
  "cells": [
    {
      "cell_type": "markdown",
      "metadata": {
        "id": "view-in-github",
        "colab_type": "text"
      },
      "source": [
        "<a href=\"https://colab.research.google.com/github/nerudxlf/scival-parser/blob/main/main.ipynb\" target=\"_parent\"><img src=\"https://colab.research.google.com/assets/colab-badge.svg\" alt=\"Open In Colab\"/></a>"
      ]
    },
    {
      "cell_type": "code",
      "execution_count": 6,
      "metadata": {
        "colab": {
          "base_uri": "https://localhost:8080/"
        },
        "id": "9vNKcSRnBoHV",
        "outputId": "622b3a68-3f23-4480-f667-742325b2332a"
      },
      "outputs": [
        {
          "output_type": "stream",
          "name": "stdout",
          "text": [
            "Requirement already satisfied: lxml in /usr/local/lib/python3.7/dist-packages (4.2.6)\n"
          ]
        }
      ],
      "source": [
        "import pandas as pd\n",
        "from pandas import DataFrame\n",
        "from bs4 import BeautifulSoup, Tag\n",
        "%pip install lxml"
      ]
    },
    {
      "cell_type": "code",
      "source": [
        "class DataDto:\n",
        "  def __init__(self, cluster_name, cluster_id, scholarly_output, publication_share, fwci, prominence_percentile):\n",
        "    self.cluster_name = cluster_name\n",
        "    self.cluster_id = cluster_id\n",
        "    self.scholarly_output = scholarly_output.replace(\",\", \"\")\n",
        "    self.publication_share = publication_share\n",
        "    self.fwci = fwci\n",
        "    self.prominence_percentile = prominence_percentile\n",
        "\n",
        "\n",
        "class Scraper:\n",
        "  _soup: BeautifulSoup = None\n",
        "\n",
        "  def __init__(self, text):\n",
        "    self.html_text = text\n",
        "    self._soup = BeautifulSoup(self.html_text, \"lxml\")\n",
        "\n",
        "  def get_list_table_row(self):\n",
        "    return self._soup.find_all(\"div\", {\"class\": \"tableRow panelRow ui-draggable ui-draggable-handle\"})\n",
        "\n",
        "  @staticmethod\n",
        "  def _get_topic_cluster_name(div: Tag):\n",
        "    return div.find(\"div\", {\"class\": \"keywords nowrap\"}).text\n",
        "\n",
        "  @staticmethod\n",
        "  def _get_topic_cluster_id(div: Tag):\n",
        "    return div.find(\"div\", {\"class\": \"topicId\"}).text\n",
        "\n",
        "  @staticmethod\n",
        "  def _get_scholarly_output(div: Tag):\n",
        "    return div.find(\"button\", {\"class\": \"link primary-link showPublications\"}).text\n",
        "\n",
        "  @staticmethod\n",
        "  def _get_publication_share(div: Tag):\n",
        "    return div.find_all(\"div\", {\"class\": \"tableCell number\"})[1].text\n",
        "\n",
        "  @staticmethod\n",
        "  def _get_fwci(div: Tag):\n",
        "    return div.find_all(\"div\", {\"class\": \"tableCell number\"})[2].text\n",
        "\n",
        "  @staticmethod\n",
        "  def _get_prominence_percentile(div: Tag):\n",
        "    return div.find(\"div\", {\"class\": \"tableCell prominence\"}).find(\"button\", {\"class\": \"link primary-link percentileVal\"}).text\n",
        "\n",
        "  @staticmethod\n",
        "  def to_data_frame(data_list) -> DataFrame:\n",
        "    list_topic_cluster_name = []\n",
        "    list_topic_cluster_id = []\n",
        "    list_scholarly_output = []\n",
        "    list_publication_share = []\n",
        "    list_fwci = []\n",
        "    list_prominence_percentile = []\n",
        "    list_info = []\n",
        "    for data in data_list:\n",
        "      list_topic_cluster_name.append(data.cluster_name)\n",
        "      list_topic_cluster_id.append(data.cluster_id)\n",
        "      list_scholarly_output.append(data.scholarly_output)\n",
        "      publications_share_value, info = data.publication_share.split()\n",
        "      list_publication_share.append(publications_share_value)\n",
        "      list_info.append(info)\n",
        "      list_fwci.append(data.fwci)\n",
        "      list_prominence_percentile.append(data.prominence_percentile)\n",
        "    return pd.DataFrame({\n",
        "        \"Topic Cluster\": list_topic_cluster_name,\n",
        "        \"Topic Cluster Number\": list_topic_cluster_id,\n",
        "        \"Scholarly Output\": list_scholarly_output,\n",
        "        \"Publication share (%)\": list_publication_share,\n",
        "        \"Publication Share growth (%)\": list_info,\n",
        "        \"Field-Weighted Citation Impact\": list_fwci,\n",
        "        \"Prominence percentile\": list_prominence_percentile\n",
        "    })\n",
        "\n",
        "  def start(self) -> DataFrame:\n",
        "    return_list = []\n",
        "    for i in self.get_list_table_row():\n",
        "      return_list.append(DataDto(\n",
        "        self._get_topic_cluster_name(i),\n",
        "        self._get_topic_cluster_id(i),\n",
        "        self._get_scholarly_output(i),\n",
        "        self._get_publication_share(i),\n",
        "        self._get_fwci(i),\n",
        "        self._get_prominence_percentile(i)\n",
        "      ))\n",
        "    return self.to_data_frame(return_list)\n"
      ],
      "metadata": {
        "id": "pXyeInBxByH2"
      },
      "execution_count": 7,
      "outputs": []
    },
    {
      "cell_type": "code",
      "source": [
        "name = \"Япония\"\n",
        "with open(f\"{name}.html\", \"r\", encoding=\"utf-8\") as f:\n",
        "  text = f.read()\n",
        "  df = Scraper(text).start()\n",
        "  df.to_excel(f\"{name}.xlsx\", index=False)"
      ],
      "metadata": {
        "id": "G5IHmUMfCqIV"
      },
      "execution_count": 8,
      "outputs": []
    }
  ]
}